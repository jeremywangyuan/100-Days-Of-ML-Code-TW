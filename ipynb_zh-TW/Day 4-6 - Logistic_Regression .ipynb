{
 "cells": [
  {
   "cell_type": "markdown",
   "metadata": {},
   "source": [
    "## 機器學習100天——第4-6天：邏輯迴歸 (Logistic Regression)\n",
    "--- \n",
    "### 數據集：社交網路\n",
    "![](https://github.com/jeremywangyuan/100-Days-Of-ML-Code-TW/blob/master/Other%20Docs/data.PNG)\n",
    "\n",
    "數據集包含了社交網路中用戶的資訊，有id,性別,年齡和預估的薪資。一家汽車公司剛推出他們新型的豪華SUV，我們將建立一個模型預測他們會不會購買並在最後一行顯示，此模型基於兩個變數，分别是年齡和預估薪資。因此我們的特徵矩陣將是這兩列。我們嘗試尋找用户年齡與預估薪資之間的某種相關性，以及他是否購買SUV。\n",
    "\n",
    "### 第一步：數據前處理\n",
    "這裡的步驟觀念可詳見[Day 1](http://localhost:8888/notebooks/Documents/GitHub/100-Days-Of-ML-Code/ipynb_zh-TW/Day%201%20-%20Data_Preprocessing.ipynb)"
   ]
  },
  {
   "cell_type": "code",
   "execution_count": 1,
   "metadata": {
    "collapsed": true
   },
   "outputs": [],
   "source": [
    "import numpy as numpy\n",
    "import matplotlib.pyplot as plt\n",
    "import pandas as pd\n",
    "\n",
    "dataset = pd.read_csv('../datasets/Social_Network_Ads.csv')\n",
    "X = dataset.iloc[:, [2, 3]].values\n",
    "Y = dataset.iloc[:,4].values\n",
    "\n"
   ]
  },
  {
   "cell_type": "code",
   "execution_count": null,
   "metadata": {
    "collapsed": true
   },
   "outputs": [],
   "source": []
  },
  {
   "cell_type": "code",
   "execution_count": null,
   "metadata": {
    "collapsed": true
   },
   "outputs": [],
   "source": []
  }
 ],
 "metadata": {
  "kernelspec": {
   "display_name": "Python 3",
   "language": "python",
   "name": "python3"
  },
  "language_info": {
   "codemirror_mode": {
    "name": "ipython",
    "version": 3
   },
   "file_extension": ".py",
   "mimetype": "text/x-python",
   "name": "python",
   "nbconvert_exporter": "python",
   "pygments_lexer": "ipython3",
   "version": "3.6.3"
  }
 },
 "nbformat": 4,
 "nbformat_minor": 2
}
