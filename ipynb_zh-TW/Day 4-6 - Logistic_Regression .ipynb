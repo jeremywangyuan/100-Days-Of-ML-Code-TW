{
 "cells": [
  {
   "cell_type": "markdown",
   "metadata": {},
   "source": [
    "## 機器學習100天——第4-6天：邏輯迴歸 (Logistic Regression)\n",
    "--- \n",
    "### 數據集：社交網路\n",
    "![](https://github.com/jeremywangyuan/100-Days-Of-ML-Code-TW/blob/master/Other%20Docs/data.PNG)\n",
    "\n",
    "數據集包含了社交網路\n",
    "\n",
    "### 第一步：數據前處理\n",
    "這裡的步驟觀念可詳見[Day 1](http://localhost:8888/notebooks/Documents/GitHub/100-Days-Of-ML-Code/ipynb_zh-TW/Day%201%20-%20Data_Preprocessing.ipynb)"
   ]
  },
  {
   "cell_type": "code",
   "execution_count": null,
   "metadata": {
    "collapsed": true
   },
   "outputs": [],
   "source": []
  }
 ],
 "metadata": {
  "kernelspec": {
   "display_name": "Python 3",
   "language": "python",
   "name": "python3"
  },
  "language_info": {
   "codemirror_mode": {
    "name": "ipython",
    "version": 3
   },
   "file_extension": ".py",
   "mimetype": "text/x-python",
   "name": "python",
   "nbconvert_exporter": "python",
   "pygments_lexer": "ipython3",
   "version": "3.6.3"
  }
 },
 "nbformat": 4,
 "nbformat_minor": 2
}
